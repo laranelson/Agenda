{
  "nbformat": 4,
  "nbformat_minor": 0,
  "metadata": {
    "colab": {
      "name": "IMC.ipynb",
      "provenance": [],
      "collapsed_sections": [],
      "authorship_tag": "ABX9TyNc6L9gtBUkdUnoMvweOjJQ",
      "include_colab_link": true
    },
    "kernelspec": {
      "name": "python3",
      "display_name": "Python 3"
    },
    "language_info": {
      "name": "python"
    }
  },
  "cells": [
    {
      "cell_type": "markdown",
      "metadata": {
        "id": "view-in-github",
        "colab_type": "text"
      },
      "source": [
        "<a href=\"https://colab.research.google.com/github/laranelson/Agenda_Django_Python/blob/main/IMC.ipynb\" target=\"_parent\"><img src=\"https://colab.research.google.com/assets/colab-badge.svg\" alt=\"Open In Colab\"/></a>"
      ]
    },
    {
      "cell_type": "code",
      "execution_count": 40,
      "metadata": {
        "colab": {
          "base_uri": "https://localhost:8080/"
        },
        "id": "9FGK_izuHr9e",
        "outputId": "2e05baca-6ccc-4784-ce94-f11e024d552d"
      },
      "outputs": [
        {
          "output_type": "stream",
          "name": "stdout",
          "text": [
            "Digite seu nome: Nelson\n",
            "Digite sua idade: 39\n",
            "Qual sua altura: 1.71\n",
            "Qual o seu peso: 85\n",
            "Olá Nelson, você nasceu em 1983.\n",
            "Hoje tá com 39 anos,\n",
            "Tem 1.71 de altura,\n",
            "E seu IMC é 29.07!\n"
          ]
        }
      ],
      "source": [
        "import datetime\n",
        "\n",
        "nome = input('Digite seu nome: ')\n",
        "idade = int(input('Digite sua idade: '))\n",
        "altura = float(input('Qual sua altura: '))\n",
        "peso = float(input('Qual o seu peso: '))\n",
        "\n",
        "def imc(peso, altura):\n",
        "  return peso / (altura * altura)\n",
        "\n",
        "def nascimento(idade):\n",
        "  current_time = datetime.datetime.now()\n",
        "  ano_atual = current_time.year\n",
        "  return ano_atual - idade\n",
        "\n",
        "print(f'Olá {nome}, você nasceu em {nascimento(idade)}.\\nHoje tá com {idade} anos,\\nTem {altura} de altura,\\nE seu IMC é {round(imc(peso, altura),2)}!')\n",
        "\n"
      ]
    }
  ]
}